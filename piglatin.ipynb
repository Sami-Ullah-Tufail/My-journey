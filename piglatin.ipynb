{
 "cells": [
  {
   "cell_type": "code",
   "execution_count": null,
   "metadata": {},
   "outputs": [],
   "source": [
    "# the operation is in the way that an input given by you will be stored here in a\n",
    "a=input(\"please enter a word\")\n",
    "#the cheak that gives us chean that if the given word is english or not\n",
    "if bool(a.isalpha())==True:\n",
    "#the program is here where the frst letter stores in b    \n",
    "    b=a[0]\n",
    "#the  program will cut of the first charcter in the string\n",
    "    a = a[1 : : ]\n",
    "#printing the code in the form of the style off game    \n",
    "    print (a+b+\"py\")\n",
    "\n",
    "else:\n",
    " print(\"please enter a valid english word\")\n"
   ]
  },
  {
   "cell_type": "code",
   "execution_count": null,
   "metadata": {},
   "outputs": [],
   "source": []
  }
 ],
 "metadata": {
  "kernelspec": {
   "display_name": "Python 3",
   "language": "python",
   "name": "python3"
  },
  "language_info": {
   "codemirror_mode": {
    "name": "ipython",
    "version": 3
   },
   "file_extension": ".py",
   "mimetype": "text/x-python",
   "name": "python",
   "nbconvert_exporter": "python",
   "pygments_lexer": "ipython3",
   "version": "3.11.0 (main, Oct 24 2022, 18:26:48) [MSC v.1933 64 bit (AMD64)]"
  },
  "orig_nbformat": 4,
  "vscode": {
   "interpreter": {
    "hash": "c261aea317cc0286b3b3261fbba9abdec21eaa57589985bb7a274bf54d6cc0a7"
   }
  }
 },
 "nbformat": 4,
 "nbformat_minor": 2
}
